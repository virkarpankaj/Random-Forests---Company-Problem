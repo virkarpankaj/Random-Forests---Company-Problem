{
 "cells": [
  {
   "cell_type": "code",
   "execution_count": null,
   "id": "45fe996a",
   "metadata": {},
   "outputs": [],
   "source": [
    "## A cloth manufacturing company is interested to know about the segment or attributes causes high sale. \n",
    "\n",
    "# feature importance"
   ]
  },
  {
   "cell_type": "code",
   "execution_count": 1,
   "id": "0eaa5b77",
   "metadata": {},
   "outputs": [],
   "source": [
    "import pandas as pd\n",
    "import numpy as np\n",
    "\n",
    "import matplotlib.pyplot as plt\n",
    "%matplotlib inline\n",
    "\n",
    "import seaborn as sns\n",
    "sns.set()"
   ]
  },
  {
   "cell_type": "code",
   "execution_count": 2,
   "id": "6440ebb1",
   "metadata": {},
   "outputs": [],
   "source": [
    "# divide the data \n",
    "from sklearn.model_selection import KFold,cross_val_score\n",
    "\n",
    "from sklearn.preprocessing import LabelEncoder"
   ]
  },
  {
   "cell_type": "code",
   "execution_count": 3,
   "id": "17b00bee",
   "metadata": {},
   "outputs": [],
   "source": [
    "# DT lib\n",
    "\n",
    "from sklearn.tree import DecisionTreeClassifier\n",
    "\n",
    "# ensemble \n",
    "\n",
    "from sklearn.ensemble import BaggingClassifier\n",
    "from sklearn.ensemble import RandomForestClassifier\n",
    "from sklearn.ensemble import AdaBoostClassifier\n",
    "from sklearn.ensemble import VotingClassifier\n",
    "\n"
   ]
  },
  {
   "cell_type": "code",
   "execution_count": 4,
   "id": "6bd7a96c",
   "metadata": {},
   "outputs": [],
   "source": [
    "import warnings\n",
    "warnings.filterwarnings('ignore')"
   ]
  },
  {
   "cell_type": "code",
   "execution_count": null,
   "id": "01bd68ba",
   "metadata": {},
   "outputs": [],
   "source": []
  },
  {
   "cell_type": "markdown",
   "id": "5e761ad3",
   "metadata": {},
   "source": [
    "## Preprocessing the Data"
   ]
  },
  {
   "cell_type": "code",
   "execution_count": 5,
   "id": "619bd451",
   "metadata": {},
   "outputs": [
    {
     "data": {
      "text/html": [
       "<div>\n",
       "<style scoped>\n",
       "    .dataframe tbody tr th:only-of-type {\n",
       "        vertical-align: middle;\n",
       "    }\n",
       "\n",
       "    .dataframe tbody tr th {\n",
       "        vertical-align: top;\n",
       "    }\n",
       "\n",
       "    .dataframe thead th {\n",
       "        text-align: right;\n",
       "    }\n",
       "</style>\n",
       "<table border=\"1\" class=\"dataframe\">\n",
       "  <thead>\n",
       "    <tr style=\"text-align: right;\">\n",
       "      <th></th>\n",
       "      <th>Sales</th>\n",
       "      <th>CompPrice</th>\n",
       "      <th>Income</th>\n",
       "      <th>Advertising</th>\n",
       "      <th>Population</th>\n",
       "      <th>Price</th>\n",
       "      <th>ShelveLoc</th>\n",
       "      <th>Age</th>\n",
       "      <th>Education</th>\n",
       "      <th>Urban</th>\n",
       "      <th>US</th>\n",
       "    </tr>\n",
       "  </thead>\n",
       "  <tbody>\n",
       "    <tr>\n",
       "      <th>0</th>\n",
       "      <td>9.50</td>\n",
       "      <td>138</td>\n",
       "      <td>73</td>\n",
       "      <td>11</td>\n",
       "      <td>276</td>\n",
       "      <td>120</td>\n",
       "      <td>Bad</td>\n",
       "      <td>42</td>\n",
       "      <td>17</td>\n",
       "      <td>Yes</td>\n",
       "      <td>Yes</td>\n",
       "    </tr>\n",
       "    <tr>\n",
       "      <th>1</th>\n",
       "      <td>11.22</td>\n",
       "      <td>111</td>\n",
       "      <td>48</td>\n",
       "      <td>16</td>\n",
       "      <td>260</td>\n",
       "      <td>83</td>\n",
       "      <td>Good</td>\n",
       "      <td>65</td>\n",
       "      <td>10</td>\n",
       "      <td>Yes</td>\n",
       "      <td>Yes</td>\n",
       "    </tr>\n",
       "    <tr>\n",
       "      <th>2</th>\n",
       "      <td>10.06</td>\n",
       "      <td>113</td>\n",
       "      <td>35</td>\n",
       "      <td>10</td>\n",
       "      <td>269</td>\n",
       "      <td>80</td>\n",
       "      <td>Medium</td>\n",
       "      <td>59</td>\n",
       "      <td>12</td>\n",
       "      <td>Yes</td>\n",
       "      <td>Yes</td>\n",
       "    </tr>\n",
       "    <tr>\n",
       "      <th>3</th>\n",
       "      <td>7.40</td>\n",
       "      <td>117</td>\n",
       "      <td>100</td>\n",
       "      <td>4</td>\n",
       "      <td>466</td>\n",
       "      <td>97</td>\n",
       "      <td>Medium</td>\n",
       "      <td>55</td>\n",
       "      <td>14</td>\n",
       "      <td>Yes</td>\n",
       "      <td>Yes</td>\n",
       "    </tr>\n",
       "    <tr>\n",
       "      <th>4</th>\n",
       "      <td>4.15</td>\n",
       "      <td>141</td>\n",
       "      <td>64</td>\n",
       "      <td>3</td>\n",
       "      <td>340</td>\n",
       "      <td>128</td>\n",
       "      <td>Bad</td>\n",
       "      <td>38</td>\n",
       "      <td>13</td>\n",
       "      <td>Yes</td>\n",
       "      <td>No</td>\n",
       "    </tr>\n",
       "  </tbody>\n",
       "</table>\n",
       "</div>"
      ],
      "text/plain": [
       "   Sales  CompPrice  Income  Advertising  Population  Price ShelveLoc  Age  \\\n",
       "0   9.50        138      73           11         276    120       Bad   42   \n",
       "1  11.22        111      48           16         260     83      Good   65   \n",
       "2  10.06        113      35           10         269     80    Medium   59   \n",
       "3   7.40        117     100            4         466     97    Medium   55   \n",
       "4   4.15        141      64            3         340    128       Bad   38   \n",
       "\n",
       "   Education Urban   US  \n",
       "0         17   Yes  Yes  \n",
       "1         10   Yes  Yes  \n",
       "2         12   Yes  Yes  \n",
       "3         14   Yes  Yes  \n",
       "4         13   Yes   No  "
      ]
     },
     "execution_count": 5,
     "metadata": {},
     "output_type": "execute_result"
    }
   ],
   "source": [
    "comp = pd.read_csv('Company_Data.csv')\n",
    "comp.head()"
   ]
  },
  {
   "cell_type": "code",
   "execution_count": 6,
   "id": "0031fe63",
   "metadata": {},
   "outputs": [
    {
     "name": "stdout",
     "output_type": "stream",
     "text": [
      "<class 'pandas.core.frame.DataFrame'>\n",
      "RangeIndex: 400 entries, 0 to 399\n",
      "Data columns (total 11 columns):\n",
      " #   Column       Non-Null Count  Dtype  \n",
      "---  ------       --------------  -----  \n",
      " 0   Sales        400 non-null    float64\n",
      " 1   CompPrice    400 non-null    int64  \n",
      " 2   Income       400 non-null    int64  \n",
      " 3   Advertising  400 non-null    int64  \n",
      " 4   Population   400 non-null    int64  \n",
      " 5   Price        400 non-null    int64  \n",
      " 6   ShelveLoc    400 non-null    object \n",
      " 7   Age          400 non-null    int64  \n",
      " 8   Education    400 non-null    int64  \n",
      " 9   Urban        400 non-null    object \n",
      " 10  US           400 non-null    object \n",
      "dtypes: float64(1), int64(7), object(3)\n",
      "memory usage: 34.5+ KB\n"
     ]
    }
   ],
   "source": [
    "comp.info()"
   ]
  },
  {
   "cell_type": "code",
   "execution_count": 7,
   "id": "18c559c9",
   "metadata": {},
   "outputs": [],
   "source": [
    "# converting ShelveLoc,Urban & US \n",
    "\n",
    "label_encode = LabelEncoder()\n",
    "\n",
    "for i in comp.columns:\n",
    "    if comp[i].dtype == object:\n",
    "        \n",
    "        comp[i] = label_encode.fit_transform(comp[i])\n",
    "    else:\n",
    "        pass\n",
    "\n",
    "# comp['ShelveLoc'] = label_encode.fit_transform(comp['ShelveLoc'])\n",
    "# comp['Urban'] = label_encode.fit_transform(comp['Urban'])\n",
    "# comp['US'] = label_encode.fit_transform(comp['US'])"
   ]
  },
  {
   "cell_type": "code",
   "execution_count": null,
   "id": "0c8375fc",
   "metadata": {},
   "outputs": [],
   "source": [
    "# Sales is in continous in nature - converting it to categorical "
   ]
  },
  {
   "cell_type": "code",
   "execution_count": 8,
   "id": "79418d45",
   "metadata": {},
   "outputs": [
    {
     "data": {
      "text/plain": [
       "336"
      ]
     },
     "execution_count": 8,
     "metadata": {},
     "output_type": "execute_result"
    }
   ],
   "source": [
    "len(comp['Sales'].unique())"
   ]
  },
  {
   "cell_type": "code",
   "execution_count": 9,
   "id": "b68b61ee",
   "metadata": {},
   "outputs": [
    {
     "data": {
      "text/plain": [
       "count    400.000000\n",
       "mean       7.496325\n",
       "std        2.824115\n",
       "min        0.000000\n",
       "25%        5.390000\n",
       "50%        7.490000\n",
       "75%        9.320000\n",
       "max       16.270000\n",
       "Name: Sales, dtype: float64"
      ]
     },
     "execution_count": 9,
     "metadata": {},
     "output_type": "execute_result"
    }
   ],
   "source": [
    "comp['Sales'].describe()"
   ]
  },
  {
   "cell_type": "code",
   "execution_count": 10,
   "id": "708591ce",
   "metadata": {},
   "outputs": [],
   "source": [
    "n = []\n",
    "\n",
    "for i in comp['Sales']:\n",
    "    \n",
    "    if i < 5.39:\n",
    "        n.append('Low')\n",
    "    elif i < 9.32:\n",
    "        n.append('Moderate')\n",
    "    else:\n",
    "        n.append('Premium')"
   ]
  },
  {
   "cell_type": "code",
   "execution_count": 11,
   "id": "0cbd8068",
   "metadata": {},
   "outputs": [],
   "source": [
    "comp.insert(0,column='Sales_Category',value=n)"
   ]
  },
  {
   "cell_type": "code",
   "execution_count": 12,
   "id": "e1632240",
   "metadata": {},
   "outputs": [
    {
     "data": {
      "text/html": [
       "<div>\n",
       "<style scoped>\n",
       "    .dataframe tbody tr th:only-of-type {\n",
       "        vertical-align: middle;\n",
       "    }\n",
       "\n",
       "    .dataframe tbody tr th {\n",
       "        vertical-align: top;\n",
       "    }\n",
       "\n",
       "    .dataframe thead th {\n",
       "        text-align: right;\n",
       "    }\n",
       "</style>\n",
       "<table border=\"1\" class=\"dataframe\">\n",
       "  <thead>\n",
       "    <tr style=\"text-align: right;\">\n",
       "      <th></th>\n",
       "      <th>Sales_Category</th>\n",
       "      <th>Sales</th>\n",
       "      <th>CompPrice</th>\n",
       "      <th>Income</th>\n",
       "      <th>Advertising</th>\n",
       "      <th>Population</th>\n",
       "      <th>Price</th>\n",
       "      <th>ShelveLoc</th>\n",
       "      <th>Age</th>\n",
       "      <th>Education</th>\n",
       "      <th>Urban</th>\n",
       "      <th>US</th>\n",
       "    </tr>\n",
       "  </thead>\n",
       "  <tbody>\n",
       "    <tr>\n",
       "      <th>0</th>\n",
       "      <td>Premium</td>\n",
       "      <td>9.50</td>\n",
       "      <td>138</td>\n",
       "      <td>73</td>\n",
       "      <td>11</td>\n",
       "      <td>276</td>\n",
       "      <td>120</td>\n",
       "      <td>0</td>\n",
       "      <td>42</td>\n",
       "      <td>17</td>\n",
       "      <td>1</td>\n",
       "      <td>1</td>\n",
       "    </tr>\n",
       "    <tr>\n",
       "      <th>1</th>\n",
       "      <td>Premium</td>\n",
       "      <td>11.22</td>\n",
       "      <td>111</td>\n",
       "      <td>48</td>\n",
       "      <td>16</td>\n",
       "      <td>260</td>\n",
       "      <td>83</td>\n",
       "      <td>1</td>\n",
       "      <td>65</td>\n",
       "      <td>10</td>\n",
       "      <td>1</td>\n",
       "      <td>1</td>\n",
       "    </tr>\n",
       "    <tr>\n",
       "      <th>2</th>\n",
       "      <td>Premium</td>\n",
       "      <td>10.06</td>\n",
       "      <td>113</td>\n",
       "      <td>35</td>\n",
       "      <td>10</td>\n",
       "      <td>269</td>\n",
       "      <td>80</td>\n",
       "      <td>2</td>\n",
       "      <td>59</td>\n",
       "      <td>12</td>\n",
       "      <td>1</td>\n",
       "      <td>1</td>\n",
       "    </tr>\n",
       "    <tr>\n",
       "      <th>3</th>\n",
       "      <td>Moderate</td>\n",
       "      <td>7.40</td>\n",
       "      <td>117</td>\n",
       "      <td>100</td>\n",
       "      <td>4</td>\n",
       "      <td>466</td>\n",
       "      <td>97</td>\n",
       "      <td>2</td>\n",
       "      <td>55</td>\n",
       "      <td>14</td>\n",
       "      <td>1</td>\n",
       "      <td>1</td>\n",
       "    </tr>\n",
       "    <tr>\n",
       "      <th>4</th>\n",
       "      <td>Low</td>\n",
       "      <td>4.15</td>\n",
       "      <td>141</td>\n",
       "      <td>64</td>\n",
       "      <td>3</td>\n",
       "      <td>340</td>\n",
       "      <td>128</td>\n",
       "      <td>0</td>\n",
       "      <td>38</td>\n",
       "      <td>13</td>\n",
       "      <td>1</td>\n",
       "      <td>0</td>\n",
       "    </tr>\n",
       "  </tbody>\n",
       "</table>\n",
       "</div>"
      ],
      "text/plain": [
       "  Sales_Category  Sales  CompPrice  Income  Advertising  Population  Price  \\\n",
       "0        Premium   9.50        138      73           11         276    120   \n",
       "1        Premium  11.22        111      48           16         260     83   \n",
       "2        Premium  10.06        113      35           10         269     80   \n",
       "3       Moderate   7.40        117     100            4         466     97   \n",
       "4            Low   4.15        141      64            3         340    128   \n",
       "\n",
       "   ShelveLoc  Age  Education  Urban  US  \n",
       "0          0   42         17      1   1  \n",
       "1          1   65         10      1   1  \n",
       "2          2   59         12      1   1  \n",
       "3          2   55         14      1   1  \n",
       "4          0   38         13      1   0  "
      ]
     },
     "execution_count": 12,
     "metadata": {},
     "output_type": "execute_result"
    }
   ],
   "source": [
    "comp.head()"
   ]
  },
  {
   "cell_type": "code",
   "execution_count": 13,
   "id": "db414fa4",
   "metadata": {},
   "outputs": [],
   "source": [
    "comp.drop('Sales',axis=1,inplace=True)"
   ]
  },
  {
   "cell_type": "code",
   "execution_count": 14,
   "id": "429ac634",
   "metadata": {},
   "outputs": [
    {
     "name": "stdout",
     "output_type": "stream",
     "text": [
      "<class 'pandas.core.frame.DataFrame'>\n",
      "RangeIndex: 400 entries, 0 to 399\n",
      "Data columns (total 11 columns):\n",
      " #   Column          Non-Null Count  Dtype \n",
      "---  ------          --------------  ----- \n",
      " 0   Sales_Category  400 non-null    object\n",
      " 1   CompPrice       400 non-null    int64 \n",
      " 2   Income          400 non-null    int64 \n",
      " 3   Advertising     400 non-null    int64 \n",
      " 4   Population      400 non-null    int64 \n",
      " 5   Price           400 non-null    int64 \n",
      " 6   ShelveLoc       400 non-null    int32 \n",
      " 7   Age             400 non-null    int64 \n",
      " 8   Education       400 non-null    int64 \n",
      " 9   Urban           400 non-null    int32 \n",
      " 10  US              400 non-null    int32 \n",
      "dtypes: int32(3), int64(7), object(1)\n",
      "memory usage: 29.8+ KB\n"
     ]
    }
   ],
   "source": [
    "comp.info()"
   ]
  },
  {
   "cell_type": "code",
   "execution_count": 15,
   "id": "e1d29b4a",
   "metadata": {},
   "outputs": [
    {
     "data": {
      "text/plain": [
       "(0, 11)"
      ]
     },
     "execution_count": 15,
     "metadata": {},
     "output_type": "execute_result"
    }
   ],
   "source": [
    "comp[comp.duplicated()].shape"
   ]
  },
  {
   "cell_type": "code",
   "execution_count": 16,
   "id": "d6ad144d",
   "metadata": {
    "scrolled": true
   },
   "outputs": [
    {
     "data": {
      "text/plain": [
       "Moderate    198\n",
       "Premium     102\n",
       "Low         100\n",
       "Name: Sales_Category, dtype: int64"
      ]
     },
     "execution_count": 16,
     "metadata": {},
     "output_type": "execute_result"
    }
   ],
   "source": [
    "comp['Sales_Category'].value_counts()"
   ]
  },
  {
   "cell_type": "code",
   "execution_count": 17,
   "id": "d35bbb00",
   "metadata": {},
   "outputs": [
    {
     "data": {
      "text/plain": [
       "<AxesSubplot:>"
      ]
     },
     "execution_count": 17,
     "metadata": {},
     "output_type": "execute_result"
    },
    {
     "data": {
      "image/png": "[encoded data removed]",
      "text/plain": [
       "<Figure size 1440x720 with 2 Axes>"
      ]
     },
     "metadata": {},
     "output_type": "display_data"
    }
   ],
   "source": [
    "# All other variables are independent\n",
    "\n",
    "plt.figure(figsize=(20,10))\n",
    "sns.heatmap(comp.corr(),annot=True)"
   ]
  },
  {
   "cell_type": "code",
   "execution_count": null,
   "id": "aa29d710",
   "metadata": {},
   "outputs": [],
   "source": []
  },
  {
   "cell_type": "code",
   "execution_count": 18,
   "id": "be4419f7",
   "metadata": {},
   "outputs": [],
   "source": [
    "x = comp.iloc[:,1:]\n",
    "y = comp.iloc[:,0]"
   ]
  },
  {
   "cell_type": "code",
   "execution_count": 19,
   "id": "72cc67da",
   "metadata": {},
   "outputs": [],
   "source": [
    "# Splitting the Data\n",
    "kfold = KFold(n_splits=10)"
   ]
  },
  {
   "cell_type": "code",
   "execution_count": 20,
   "id": "707ccf5d",
   "metadata": {},
   "outputs": [],
   "source": [
    "# creating Base Decision tree Model\n",
    "\n",
    "d_tree = DecisionTreeClassifier()"
   ]
  },
  {
   "cell_type": "markdown",
   "id": "5159b649",
   "metadata": {},
   "source": [
    "## Random Forest "
   ]
  },
  {
   "cell_type": "code",
   "execution_count": 21,
   "id": "367da20e",
   "metadata": {},
   "outputs": [],
   "source": [
    "# Model Structure\n",
    "n_trees = 100\n",
    "\n",
    "model_rf = RandomForestClassifier(n_estimators=n_trees,max_features=3 ,random_state=8)"
   ]
  },
  {
   "cell_type": "code",
   "execution_count": 22,
   "id": "4395eef3",
   "metadata": {},
   "outputs": [
    {
     "data": {
      "text/plain": [
       "array([0.625, 0.7  , 0.625, 0.65 , 0.7  , 0.675, 0.675, 0.625, 0.725,\n",
       "       0.6  ])"
      ]
     },
     "execution_count": 22,
     "metadata": {},
     "output_type": "execute_result"
    }
   ],
   "source": [
    "# Accuracy of All the Models - 10 DT Model\n",
    "result_rf = cross_val_score(model_rf,x,y,cv=kfold)\n",
    "result_rf"
   ]
  },
  {
   "cell_type": "code",
   "execution_count": 23,
   "id": "c7253d44",
   "metadata": {},
   "outputs": [
    {
     "name": "stdout",
     "output_type": "stream",
     "text": [
      "mean Accuracy of Model is 66.0 %\n"
     ]
    }
   ],
   "source": [
    "# mean Accuracy of Model\n",
    "\n",
    "print(f'mean Accuracy of Model is {np.round(result_rf.mean(),4)*100} %')"
   ]
  },
  {
   "cell_type": "code",
   "execution_count": null,
   "id": "7da5e02c",
   "metadata": {},
   "outputs": [],
   "source": []
  },
  {
   "cell_type": "markdown",
   "id": "c03df21f",
   "metadata": {},
   "source": [
    "### Feature Selection - Segment or Attributes Causes High Sale. "
   ]
  },
  {
   "cell_type": "code",
   "execution_count": 24,
   "id": "1d53c6a7",
   "metadata": {},
   "outputs": [
    {
     "data": {
      "text/plain": [
       "RandomForestClassifier(max_features=3, random_state=8)"
      ]
     },
     "execution_count": 24,
     "metadata": {},
     "output_type": "execute_result"
    }
   ],
   "source": [
    "# fitting the model\n",
    "\n",
    "model_rf.fit(x,y)"
   ]
  },
  {
   "cell_type": "code",
   "execution_count": 25,
   "id": "02f01bc3",
   "metadata": {},
   "outputs": [
    {
     "data": {
      "text/plain": [
       "array([0.1163715 , 0.10592343, 0.09198597, 0.11417605, 0.21788569,\n",
       "       0.12658882, 0.12200886, 0.06877507, 0.01596002, 0.02032459])"
      ]
     },
     "execution_count": 25,
     "metadata": {},
     "output_type": "execute_result"
    }
   ],
   "source": [
    "imp_feature = model_rf.feature_importances_\n",
    "imp_feature"
   ]
  },
  {
   "cell_type": "code",
   "execution_count": 26,
   "id": "dcb7dec6",
   "metadata": {},
   "outputs": [],
   "source": [
    "name_feature = model_rf.feature_names_in_"
   ]
  },
  {
   "cell_type": "code",
   "execution_count": 27,
   "id": "e173bb2c",
   "metadata": {},
   "outputs": [
    {
     "data": {
      "text/plain": [
       "Text(0.5, 1.0, 'Feature Selection By RF')"
      ]
     },
     "execution_count": 27,
     "metadata": {},
     "output_type": "execute_result"
    },
    {
     "data": {
      "image/png": "[encoded data removed]",
      "text/plain": [
       "<Figure size 1440x504 with 1 Axes>"
      ]
     },
     "metadata": {},
     "output_type": "display_data"
    }
   ],
   "source": [
    "plt.figure(figsize=(20,7))\n",
    "plt.bar(name_feature,imp_feature)\n",
    "plt.xlabel('Features')\n",
    "plt.ylabel('Feature Importance')\n",
    "plt.title('Feature Selection By RF')"
   ]
  },
  {
   "cell_type": "code",
   "execution_count": null,
   "id": "261a8eeb",
   "metadata": {},
   "outputs": [],
   "source": []
  },
  {
   "cell_type": "code",
   "execution_count": null,
   "id": "6b1f25dc",
   "metadata": {},
   "outputs": [],
   "source": []
  },
  {
   "cell_type": "markdown",
   "id": "2a73a5f6",
   "metadata": {},
   "source": [
    "## Bagging"
   ]
  },
  {
   "cell_type": "code",
   "execution_count": 28,
   "id": "e0074908",
   "metadata": {},
   "outputs": [],
   "source": [
    "# Model Structure\n",
    "n_trees = 100\n",
    "model_bag = BaggingClassifier(base_estimator=d_tree,n_estimators=n_trees,random_state=8)"
   ]
  },
  {
   "cell_type": "code",
   "execution_count": 29,
   "id": "a54b252b",
   "metadata": {},
   "outputs": [
    {
     "data": {
      "text/plain": [
       "array([0.625, 0.75 , 0.575, 0.65 , 0.7  , 0.7  , 0.725, 0.65 , 0.75 ,\n",
       "       0.625])"
      ]
     },
     "execution_count": 29,
     "metadata": {},
     "output_type": "execute_result"
    }
   ],
   "source": [
    "# Accuracy of All the Models - 10 DT Model\n",
    "result_bag = cross_val_score(model_bag,x,y,cv=kfold)\n",
    "result_bag"
   ]
  },
  {
   "cell_type": "code",
   "execution_count": 30,
   "id": "06810017",
   "metadata": {},
   "outputs": [
    {
     "name": "stdout",
     "output_type": "stream",
     "text": [
      "mean Accuracy of Model is 67.5 %\n"
     ]
    }
   ],
   "source": [
    "# mean Accuracy of Model\n",
    "\n",
    "print(f'mean Accuracy of Model is {np.round(result_bag.mean(),4)*100} %')"
   ]
  },
  {
   "cell_type": "code",
   "execution_count": null,
   "id": "196a1007",
   "metadata": {},
   "outputs": [],
   "source": []
  },
  {
   "cell_type": "markdown",
   "id": "99c4f207",
   "metadata": {},
   "source": [
    "## Stacking"
   ]
  },
  {
   "cell_type": "code",
   "execution_count": 31,
   "id": "333f7fb6",
   "metadata": {},
   "outputs": [],
   "source": [
    "estimators = []\n",
    "\n",
    "estimators.append(('Decision Tree',d_tree))\n",
    "\n",
    "estimators.append(('Random Forest',model_rf))\n",
    "\n",
    "estimators.append(('Bagging',model_bag))"
   ]
  },
  {
   "cell_type": "code",
   "execution_count": 32,
   "id": "121ed8a1",
   "metadata": {},
   "outputs": [],
   "source": [
    "# create the ensemble model\n",
    "ensembel = VotingClassifier(estimators= estimators)"
   ]
  },
  {
   "cell_type": "code",
   "execution_count": 33,
   "id": "b8ad0ad1",
   "metadata": {},
   "outputs": [],
   "source": [
    "# finding the accuracy\n",
    "\n",
    "result_voting = cross_val_score(ensembel,x,y,cv=kfold)"
   ]
  },
  {
   "cell_type": "code",
   "execution_count": 34,
   "id": "d25b65dc",
   "metadata": {},
   "outputs": [
    {
     "name": "stdout",
     "output_type": "stream",
     "text": [
      "mean Accuracy of Model is 68.25 %\n"
     ]
    }
   ],
   "source": [
    "print(f'mean Accuracy of Model is {np.round(result_voting.mean(),4)*100} %')"
   ]
  },
  {
   "cell_type": "code",
   "execution_count": null,
   "id": "cab8b4a7",
   "metadata": {},
   "outputs": [],
   "source": []
  },
  {
   "cell_type": "code",
   "execution_count": null,
   "id": "7b431c34",
   "metadata": {},
   "outputs": [],
   "source": []
  },
  {
   "cell_type": "code",
   "execution_count": null,
   "id": "4187bca3",
   "metadata": {},
   "outputs": [],
   "source": []
  }
 ],
 "metadata": {
  "kernelspec": {
   "display_name": "Python 3",
   "language": "python",
   "name": "python3"
  },
  "language_info": {
   "codemirror_mode": {
    "name": "ipython",
    "version": 3
   },
   "file_extension": ".py",
   "mimetype": "text/x-python",
   "name": "python",
   "nbconvert_exporter": "python",
   "pygments_lexer": "ipython3",
   "version": "3.8.8"
  },
  "varInspector": {
   "cols": {
    "lenName": 16,
    "lenType": 16,
    "lenVar": 40
   },
   "kernels_config": {
    "python": {
     "delete_cmd_postfix": "",
     "delete_cmd_prefix": "del ",
     "library": "var_list.py",
     "varRefreshCmd": "print(var_dic_list())"
    },
    "r": {
     "delete_cmd_postfix": ") ",
     "delete_cmd_prefix": "rm(",
     "library": "var_list.r",
     "varRefreshCmd": "cat(var_dic_list()) "
    }
   },
   "types_to_exclude": [
    "module",
    "function",
    "builtin_function_or_method",
    "instance",
    "_Feature"
   ],
   "window_display": false
  }
 },
 "nbformat": 4,
 "nbformat_minor": 5
}
